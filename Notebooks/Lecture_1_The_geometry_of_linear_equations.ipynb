{
  "nbformat": 4,
  "nbformat_minor": 0,
  "metadata": {
    "colab": {
      "provenance": []
    },
    "kernelspec": {
      "name": "python3",
      "display_name": "Python 3"
    },
    "language_info": {
      "name": "python"
    }
  },
  "cells": [
    {
      "cell_type": "code",
      "source": [
        "import jax.numpy as jnp\n",
        "from jax import jit\n",
        "import matplotlib.pyplot as plt"
      ],
      "metadata": {
        "id": "_kkFtGwYbTfT"
      },
      "execution_count": 1,
      "outputs": []
    },
    {
      "cell_type": "markdown",
      "source": [
        "## ✅ 1️⃣: Problem Definition\n",
        "\n",
        "Given a linear system:\n",
        "\n",
        "$$\n",
        "A x = b\n",
        "$$\n",
        "\n",
        "where:\n",
        "- $A \\in \\mathbb{R}^{m \\times n}$\n",
        "- $b \\in \\mathbb{R}^{m}$\n",
        "\n",
        "---\n",
        "\n",
        "## ✅ 2️⃣: Row Space Method\n",
        "\n",
        "Based on projecting $b$ onto the row space of $A$.\n",
        "\n",
        "The key idea: Solve $A x = b$ by finding the least-norm solution using the pseudo-inverse:\n",
        "\n",
        "$$\n",
        "x = A^\\top (A A^\\top)^{-1} b\n",
        "$$\n",
        "\n",
        "---\n",
        "\n",
        "## ✅ 3️⃣: Column Space Method\n",
        "\n",
        "Based on expressing $b$ as a linear combination of $A$'s columns.\n",
        "\n",
        "The solution is given by:\n",
        "\n",
        "$$\n",
        "x = (A^\\top A)^{-1} A^\\top b\n",
        "$$\n",
        "\n",
        "*(if $A^\\top A$ is invertible)*\n"
      ],
      "metadata": {
        "id": "L6MGLwcUdbGX"
      }
    },
    {
      "cell_type": "markdown",
      "source": [
        "# Finding The solutions of Linear Equation using Row Space method"
      ],
      "metadata": {
        "id": "BBq-KvVyahSw"
      }
    },
    {
      "cell_type": "code",
      "execution_count": 2,
      "metadata": {
        "id": "ZIpjlneZZaIW"
      },
      "outputs": [],
      "source": [
        "@jit\n",
        "def row_space_solution(A, b):\n",
        "    \"\"\" Solve Ax = b using Row Space method \"\"\"\n",
        "    pseudo_inv = A.T @ jnp.linalg.inv(A @ A.T)\n",
        "    x = pseudo_inv @ b\n",
        "    return x"
      ]
    },
    {
      "cell_type": "markdown",
      "source": [
        "# Finding The solutions of Linear Equation using Column Space method\n",
        "\n"
      ],
      "metadata": {
        "id": "y_EMNTI6bOlH"
      }
    },
    {
      "cell_type": "code",
      "source": [
        "@jit\n",
        "def column_space_solution(A, b):\n",
        "    \"\"\" Solve Ax = b using Column Space method \"\"\"\n",
        "    pseudo_inv = jnp.linalg.inv(A.T @ A) @ A.T\n",
        "    x = pseudo_inv @ b\n",
        "    return x"
      ],
      "metadata": {
        "id": "QNbWV4eCbSUf"
      },
      "execution_count": 3,
      "outputs": []
    },
    {
      "cell_type": "code",
      "source": [
        "def visualize_2d(A, b, x_row, x_col):\n",
        "    fig, ax = plt.subplots(figsize=(8,8))\n",
        "\n",
        "    a1 = A[:, 0]\n",
        "    a2 = A[:, 1]\n",
        "    origin = jnp.zeros(2)\n",
        "\n",
        "    # Plot column vectors of A\n",
        "    ax.quiver(*origin, *a1, angles='xy', scale_units='xy', scale=1, color='r', label='A[:,0]')\n",
        "    ax.quiver(*origin, *a2, angles='xy', scale_units='xy', scale=1, color='g', label='A[:,1]')\n",
        "\n",
        "    # Plot b\n",
        "    ax.quiver(*origin, *b, angles='xy', scale_units='xy', scale=1, color='b', label='b')\n",
        "\n",
        "    # Reconstruct b from computed x's\n",
        "    b_row = A @ x_row\n",
        "    b_col = A @ x_col\n",
        "\n",
        "    # Plot reconstructed b (without problematic linestyle)\n",
        "    ax.quiver(*origin, *b_row, angles='xy', scale_units='xy', scale=1, color='m', label='b (Row Space)')\n",
        "    ax.quiver(*origin, *b_col, angles='xy', scale_units='xy', scale=1, color='c', label='b (Column Space)')\n",
        "\n",
        "    ax.set_xlim(-5, 5)\n",
        "    ax.set_ylim(-5, 5)\n",
        "    ax.grid(True)\n",
        "    ax.set_aspect('equal')\n",
        "    ax.legend()\n",
        "    plt.show()"
      ],
      "metadata": {
        "id": "3d4xV_CfcX4r"
      },
      "execution_count": 8,
      "outputs": []
    },
    {
      "cell_type": "code",
      "source": [
        "# Example 2D System\n",
        "A = jnp.array([[2.0, 1.0],\n",
        "               [1.0, 3.0]])\n",
        "\n",
        "b = jnp.array([5.0, 6.0])\n",
        "\n",
        "# Compute solutions\n",
        "x_row = row_space_solution(A, b)\n",
        "x_col = column_space_solution(A, b)\n",
        "\n",
        "print(\"Solution (Row Space):\", x_row)\n",
        "print(\"Solution (Column Space):\", x_col)\n",
        "\n",
        "# Visualization\n",
        "visualize_2d(A, b, x_row, x_col)\n"
      ],
      "metadata": {
        "colab": {
          "base_uri": "https://localhost:8080/",
          "height": 711
        },
        "id": "XygFTzPhcfvt",
        "outputId": "3f7f7320-f976-48fe-c6e5-f2ed72be720b"
      },
      "execution_count": 9,
      "outputs": [
        {
          "output_type": "stream",
          "name": "stdout",
          "text": [
            "Solution (Row Space): [1.8       1.4000001]\n",
            "Solution (Column Space): [1.8       1.4000001]\n"
          ]
        },
        {
          "output_type": "display_data",
          "data": {
            "text/plain": [
              "<Figure size 800x800 with 1 Axes>"
            ],
            "image/png": "[encoded data removed]"
          },
          "metadata": {}
        }
      ]
    },
    {
      "cell_type": "code",
      "source": [
        "# Example higher dimension (3x3 system)\n",
        "A_hd = jnp.array([[1.0, 2.0, 3.0],\n",
        "                  [0.0, 1.0, 4.0],\n",
        "                  [5.0, 6.0, 0.0]])\n",
        "\n",
        "b_hd = jnp.array([14.0, 10.0, 32.0])\n",
        "\n",
        "x_row_hd = row_space_solution(A_hd, b_hd)\n",
        "x_col_hd = column_space_solution(A_hd, b_hd)\n",
        "\n",
        "print(\"\\nHigh-Dimensional Test:\")\n",
        "print(\"Solution (Row Space):\", x_row_hd)\n",
        "print(\"Solution (Column Space):\", x_col_hd)\n",
        "\n",
        "# Verify Ax == b\n",
        "print(\"\\nVerification Row Space:\", A_hd @ x_row_hd)\n",
        "print(\"Verification Column Space:\", A_hd @ x_col_hd)\n"
      ],
      "metadata": {
        "colab": {
          "base_uri": "https://localhost:8080/"
        },
        "id": "c4ycLAedcjRK",
        "outputId": "a78ca5d6-91f0-4cdd-f424-2235892a173e"
      },
      "execution_count": 7,
      "outputs": [
        {
          "output_type": "stream",
          "name": "stdout",
          "text": [
            "\n",
            "High-Dimensional Test:\n",
            "Solution (Row Space): [4.001404  2.0009766 2.0039062]\n",
            "Solution (Column Space): [3.9750671 2.0062866 2.000801 ]\n",
            "\n",
            "Verification Row Space: [14.015076 10.016602 32.01288 ]\n",
            "Verification Column Space: [13.990044 10.009491 31.913055]\n"
          ]
        }
      ]
    },
    {
      "cell_type": "code",
      "source": [],
      "metadata": {
        "id": "WHVPrdAXcv1M"
      },
      "execution_count": null,
      "outputs": []
    }
  ]
}