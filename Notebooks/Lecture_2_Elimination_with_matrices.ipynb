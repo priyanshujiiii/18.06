{
  "nbformat": 4,
  "nbformat_minor": 0,
  "metadata": {
    "colab": {
      "provenance": []
    },
    "kernelspec": {
      "name": "python3",
      "display_name": "Python 3"
    },
    "language_info": {
      "name": "python"
    }
  },
  "cells": [
    {
      "cell_type": "markdown",
      "source": [
        "## Gaussian Elimination (Step-by-Step)\n",
        "\n",
        "We solve the system $A x = b$ using **Gaussian Elimination**.\n",
        "\n",
        "### Step 1: Form the augmented matrix\n",
        "$$\n",
        "[A | b]\n",
        "$$\n",
        "\n",
        "### Step 2: Normalize pivot row and eliminate lower rows\n",
        "\n",
        "For each pivot $A_{ii}$:\n",
        "- Normalize row $i$:  \n",
        "  $$ A_{i,:} \\leftarrow \\frac{A_{i,:}}{A_{ii}} $$\n",
        "  $$ b_i \\leftarrow \\frac{b_i}{A_{ii}} $$\n",
        "\n",
        "- For rows $j = i+1$ to $n-1$, eliminate $A_{ji}$:  \n",
        "  $$ A_{j,:} \\leftarrow A_{j,:} - A_{ji} \\cdot A_{i,:} $$\n",
        "  $$ b_j \\leftarrow b_j - A_{ji} \\cdot b_i $$\n",
        "\n",
        "### Step 3: Back Substitution\n",
        "\n",
        "Compute solution starting from bottom row:\n",
        "$$\n",
        "x_i = b_i - \\sum_{j=i+1}^{n-1} A_{ij} x_j\n",
        "$$\n",
        "\n",
        "---\n",
        "\n",
        "The computed solution is:\n",
        "$$\n",
        "x = \\begin{bmatrix}\n",
        "x_1 \\\\\n",
        "x_2 \\\\\n",
        "x_3\n",
        "\\end{bmatrix}\n",
        "$$\n"
      ],
      "metadata": {
        "id": "fc9DGuMTeUY9"
      }
    },
    {
      "cell_type": "code",
      "execution_count": 1,
      "metadata": {
        "id": "1YILFlIUZbtP"
      },
      "outputs": [],
      "source": [
        "import jax.numpy as jnp\n",
        "\n",
        "def gaussian_elimination(A, b):\n",
        "    A = A.copy()\n",
        "    b = b.copy()\n",
        "    n = A.shape[0]\n",
        "\n",
        "    print(\"Initial Augmented Matrix [A | b]:\")\n",
        "    print(jnp.hstack([A, b.reshape(-1,1)]), \"\\n\")\n",
        "\n",
        "    # Forward Elimination\n",
        "    for i in range(n):\n",
        "        # Make pivot = 1 by dividing row by pivot element\n",
        "        pivot = A[i, i]\n",
        "        A = A.at[i].set(A[i] / pivot)\n",
        "        b = b.at[i].set(b[i] / pivot)\n",
        "\n",
        "        print(f\"Step {i+1}: Normalize row {i}:\")\n",
        "        print(jnp.hstack([A, b.reshape(-1,1)]), \"\\n\")\n",
        "\n",
        "        # Eliminate below\n",
        "        for j in range(i+1, n):\n",
        "            factor = A[j, i]\n",
        "            A = A.at[j].set(A[j] - factor * A[i])\n",
        "            b = b.at[j].set(b[j] - factor * b[i])\n",
        "\n",
        "            print(f\"Eliminate row {j} using row {i}:\")\n",
        "            print(jnp.hstack([A, b.reshape(-1,1)]), \"\\n\")\n",
        "\n",
        "    # Back Substitution\n",
        "    x = jnp.zeros(n)\n",
        "    for i in reversed(range(n)):\n",
        "        x = x.at[i].set(b[i] - jnp.sum(A[i, i+1:] * x[i+1:]))\n",
        "\n",
        "    return x\n"
      ]
    },
    {
      "cell_type": "code",
      "source": [
        "# Example system: 3x3\n",
        "A = jnp.array([[2.0, 1.0, -1.0],\n",
        "               [-3.0, -1.0, 2.0],\n",
        "               [-2.0, 1.0, 2.0]])\n",
        "\n",
        "b = jnp.array([8.0, -11.0, -3.0])\n",
        "\n",
        "solution = gaussian_elimination(A, b)\n",
        "print(\"Final Solution x:\", solution)\n",
        "\n",
        "# Verify Ax ≈ b\n",
        "print(\"\\nVerification A @ x:\", A @ solution)\n",
        "print(\"Original b:\", b)\n"
      ],
      "metadata": {
        "colab": {
          "base_uri": "https://localhost:8080/"
        },
        "id": "3iz1odSrebf5",
        "outputId": "96f43b4f-f795-4aab-b247-c00781aae5aa"
      },
      "execution_count": 2,
      "outputs": [
        {
          "output_type": "stream",
          "name": "stdout",
          "text": [
            "Initial Augmented Matrix [A | b]:\n",
            "[[  2.   1.  -1.   8.]\n",
            " [ -3.  -1.   2. -11.]\n",
            " [ -2.   1.   2.  -3.]] \n",
            "\n",
            "Step 1: Normalize row 0:\n",
            "[[  1.    0.5  -0.5   4. ]\n",
            " [ -3.   -1.    2.  -11. ]\n",
            " [ -2.    1.    2.   -3. ]] \n",
            "\n",
            "Eliminate row 1 using row 0:\n",
            "[[ 1.   0.5 -0.5  4. ]\n",
            " [ 0.   0.5  0.5  1. ]\n",
            " [-2.   1.   2.  -3. ]] \n",
            "\n",
            "Eliminate row 2 using row 0:\n",
            "[[ 1.   0.5 -0.5  4. ]\n",
            " [ 0.   0.5  0.5  1. ]\n",
            " [ 0.   2.   1.   5. ]] \n",
            "\n",
            "Step 2: Normalize row 1:\n",
            "[[ 1.   0.5 -0.5  4. ]\n",
            " [ 0.   1.   1.   2. ]\n",
            " [ 0.   2.   1.   5. ]] \n",
            "\n",
            "Eliminate row 2 using row 1:\n",
            "[[ 1.   0.5 -0.5  4. ]\n",
            " [ 0.   1.   1.   2. ]\n",
            " [ 0.   0.  -1.   1. ]] \n",
            "\n",
            "Step 3: Normalize row 2:\n",
            "[[ 1.   0.5 -0.5  4. ]\n",
            " [ 0.   1.   1.   2. ]\n",
            " [-0.  -0.   1.  -1. ]] \n",
            "\n",
            "Final Solution x: [ 2.  3. -1.]\n",
            "\n",
            "Verification A @ x: [  8. -11.  -3.]\n",
            "Original b: [  8. -11.  -3.]\n"
          ]
        }
      ]
    },
    {
      "cell_type": "code",
      "source": [],
      "metadata": {
        "id": "vXXqsuMGehe0"
      },
      "execution_count": null,
      "outputs": []
    }
  ]
}