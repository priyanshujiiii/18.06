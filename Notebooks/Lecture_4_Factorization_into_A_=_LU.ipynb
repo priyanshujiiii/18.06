{
  "nbformat": 4,
  "nbformat_minor": 0,
  "metadata": {
    "colab": {
      "provenance": []
    },
    "kernelspec": {
      "name": "python3",
      "display_name": "Python 3"
    },
    "language_info": {
      "name": "python"
    }
  },
  "cells": [
    {
      "cell_type": "markdown",
      "source": [
        "## LU Factorization\n",
        "\n",
        "Given a matrix $A$, we want to decompose:\n",
        "$$\n",
        "A = L U\n",
        "$$\n",
        "\n",
        "### ✅ Method 1: Inverse of Product\n",
        "\n",
        "At each step:\n",
        "1. Eliminate below pivot:\n",
        "   $$\n",
        "   U_{j,:} \\leftarrow U_{j,:} - \\frac{U_{ji}}{U_{ii}} U_{i,:}\n",
        "   $$\n",
        "   and store the factor in $L_{j,i}$.\n",
        "\n",
        "Final result:\n",
        "$$\n",
        "A = L U\n",
        "$$\n",
        "\n",
        "Check:\n",
        "$$\n",
        "A^{-1} = U^{-1} L^{-1}\n",
        "$$\n",
        "\n",
        "---\n",
        "\n",
        "### ✅ Method 2: Transpose of Product\n",
        "\n",
        "1. Factorize $A^\\top = U^\\top L^\\top$ (similar to forward elimination).\n",
        "2. Then transpose back:\n",
        "   $$\n",
        "   A = L U\n",
        "   $$\n",
        "\n",
        "Final result:\n",
        "$$\n",
        "A = L U\n",
        "$$\n"
      ],
      "metadata": {
        "id": "RRSI1tBsqRrM"
      }
    },
    {
      "cell_type": "markdown",
      "source": [
        "## Method 1"
      ],
      "metadata": {
        "id": "rhuF3EuOqXyK"
      }
    },
    {
      "cell_type": "code",
      "execution_count": 1,
      "metadata": {
        "id": "Yjg0A75tZdbv"
      },
      "outputs": [],
      "source": [
        "import jax.numpy as jnp\n",
        "\n",
        "def lu_factorization_inverse_method(A):\n",
        "    A = A.copy()\n",
        "    n = A.shape[0]\n",
        "\n",
        "    L = jnp.eye(n)\n",
        "    U = A.copy()\n",
        "\n",
        "    print(\"Initial Matrix A:\")\n",
        "    print(A, \"\\n\")\n",
        "\n",
        "    # Forward Elimination to get U and L\n",
        "    for i in range(n):\n",
        "        for j in range(i+1, n):\n",
        "            factor = U[j, i] / U[i, i]\n",
        "            U = U.at[j].set(U[j] - factor * U[i])\n",
        "            L = L.at[j, i].set(factor)\n",
        "\n",
        "            print(f\"Eliminating element U[{j},{i}] using factor {factor}:\")\n",
        "            print(\"U:\")\n",
        "            print(U)\n",
        "            print(\"L:\")\n",
        "            print(L, \"\\n\")\n",
        "\n",
        "    print(\"Final L:\")\n",
        "    print(L)\n",
        "    print(\"Final U:\")\n",
        "    print(U)\n",
        "\n",
        "    # Check A = L @ U\n",
        "    print(\"\\nReconstructed A = L @ U:\")\n",
        "    print(L @ U)\n",
        "\n",
        "    # Inverse check (optional)\n",
        "    A_inv = jnp.linalg.inv(A)\n",
        "    L_inv = jnp.linalg.inv(L)\n",
        "    U_inv = jnp.linalg.inv(U)\n",
        "    print(\"\\nCheck A^{-1} = U^{-1} @ L^{-1}:\")\n",
        "    print(U_inv @ L_inv)\n",
        "    print(\"\\nDirect A^{-1}:\")\n",
        "    print(A_inv)\n",
        "\n",
        "    return L, U\n"
      ]
    },
    {
      "cell_type": "markdown",
      "source": [
        "## Method 2"
      ],
      "metadata": {
        "id": "u7_Ji7TZqbnT"
      }
    },
    {
      "cell_type": "code",
      "source": [
        "def lu_factorization_transpose_method(A):\n",
        "    print(\"Factorizing A^T instead of A\")\n",
        "\n",
        "    A_T = A.T\n",
        "    print(\"\\nMatrix A^T:\")\n",
        "    print(A_T, \"\\n\")\n",
        "\n",
        "    L_T = jnp.eye(A.shape[0])\n",
        "    U_T = A_T.copy()\n",
        "\n",
        "    for i in range(A.shape[0]):\n",
        "        for j in range(i+1, A.shape[0]):\n",
        "            factor = U_T[j, i] / U_T[i, i]\n",
        "            U_T = U_T.at[j].set(U_T[j] - factor * U_T[i])\n",
        "            L_T = L_T.at[j, i].set(factor)\n",
        "\n",
        "            print(f\"Eliminating element U_T[{j},{i}] using factor {factor}:\")\n",
        "            print(\"U_T:\")\n",
        "            print(U_T)\n",
        "            print(\"L_T:\")\n",
        "            print(L_T, \"\\n\")\n",
        "\n",
        "    U = L_T.T\n",
        "    L = U_T.T\n",
        "\n",
        "    print(\"Final L (from U_T^T):\")\n",
        "    print(L)\n",
        "    print(\"Final U (from L_T^T):\")\n",
        "    print(U)\n",
        "\n",
        "    # Check A = L @ U\n",
        "    print(\"\\nReconstructed A = L @ U:\")\n",
        "    print(L @ U)\n",
        "\n",
        "    return L, U\n"
      ],
      "metadata": {
        "id": "xtrDujd3qaho"
      },
      "execution_count": 2,
      "outputs": []
    },
    {
      "cell_type": "code",
      "source": [
        "A = jnp.array([[4.0, 3.0],\n",
        "               [6.0, 3.0]])\n",
        "\n",
        "print(\"\\n=== LU Factorization (Inverse of Product Method) ===\")\n",
        "L1, U1 = lu_factorization_inverse_method(A)\n",
        "\n",
        "print(\"\\n=== LU Factorization (Transpose of Product Method) ===\")\n",
        "L2, U2 = lu_factorization_transpose_method(A)\n"
      ],
      "metadata": {
        "colab": {
          "base_uri": "https://localhost:8080/"
        },
        "id": "5MGqlAnYqhMW",
        "outputId": "8807e7a0-9e9a-4cc3-a3f2-a7b1387e86e0"
      },
      "execution_count": 3,
      "outputs": [
        {
          "output_type": "stream",
          "name": "stdout",
          "text": [
            "\n",
            "=== LU Factorization (Inverse of Product Method) ===\n",
            "Initial Matrix A:\n",
            "[[4. 3.]\n",
            " [6. 3.]] \n",
            "\n",
            "Eliminating element U[1,0] using factor 1.5:\n",
            "U:\n",
            "[[ 4.   3. ]\n",
            " [ 0.  -1.5]]\n",
            "L:\n",
            "[[1.  0. ]\n",
            " [1.5 1. ]] \n",
            "\n",
            "Final L:\n",
            "[[1.  0. ]\n",
            " [1.5 1. ]]\n",
            "Final U:\n",
            "[[ 4.   3. ]\n",
            " [ 0.  -1.5]]\n",
            "\n",
            "Reconstructed A = L @ U:\n",
            "[[4. 3.]\n",
            " [6. 3.]]\n",
            "\n",
            "Check A^{-1} = U^{-1} @ L^{-1}:\n",
            "[[-0.5        0.5      ]\n",
            " [ 1.        -0.6666667]]\n",
            "\n",
            "Direct A^{-1}:\n",
            "[[-0.5        0.5      ]\n",
            " [ 1.        -0.6666667]]\n",
            "\n",
            "=== LU Factorization (Transpose of Product Method) ===\n",
            "Factorizing A^T instead of A\n",
            "\n",
            "Matrix A^T:\n",
            "[[4. 6.]\n",
            " [3. 3.]] \n",
            "\n",
            "Eliminating element U_T[1,0] using factor 0.75:\n",
            "U_T:\n",
            "[[ 4.   6. ]\n",
            " [ 0.  -1.5]]\n",
            "L_T:\n",
            "[[1.   0.  ]\n",
            " [0.75 1.  ]] \n",
            "\n",
            "Final L (from U_T^T):\n",
            "[[ 4.   0. ]\n",
            " [ 6.  -1.5]]\n",
            "Final U (from L_T^T):\n",
            "[[1.   0.75]\n",
            " [0.   1.  ]]\n",
            "\n",
            "Reconstructed A = L @ U:\n",
            "[[4. 3.]\n",
            " [6. 3.]]\n"
          ]
        }
      ]
    },
    {
      "cell_type": "code",
      "source": [],
      "metadata": {
        "id": "tLQubvwbqkUR"
      },
      "execution_count": null,
      "outputs": []
    }
  ]
}