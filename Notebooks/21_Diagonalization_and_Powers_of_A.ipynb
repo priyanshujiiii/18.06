{
  "nbformat": 4,
  "nbformat_minor": 0,
  "metadata": {
    "colab": {
      "provenance": []
    },
    "kernelspec": {
      "name": "python3",
      "display_name": "Python 3"
    },
    "language_info": {
      "name": "python"
    }
  },
  "cells": [
    {
      "cell_type": "markdown",
      "source": [
        "# Diagonalization and Powers of A\n",
        "\n",
        "## 1) Definition\n",
        "\n",
        "A square matrix $A \\in \\mathbb{R}^{n \\times n}$ is **diagonalizable** if there exists an invertible matrix $P$ and a diagonal matrix $D$ such that:\n",
        "\n",
        "$$\n",
        "A = P D P^{-1}\n",
        "$$\n",
        "\n",
        "- $D$ contains the eigenvalues of $A$ on its diagonal.\n",
        "- Columns of $P$ are the corresponding eigenvectors of $A$.\n",
        "\n",
        "**Powers of A:** If $A$ is diagonalizable:\n",
        "\n",
        "$$\n",
        "A^k = P D^k P^{-1}, \\quad k \\in \\mathbb{Z}_{\\ge 0}\n",
        "$$\n",
        "\n",
        "where $D^k$ is easy to compute by raising each diagonal entry to the power $k$.\n"
      ],
      "metadata": {
        "id": "2oHnKg_HPMSB"
      }
    },
    {
      "cell_type": "markdown",
      "source": [
        "## 2) Derivation\n",
        "\n",
        "1. Let $A$ have eigenvalues $\\lambda_1, \\dots, \\lambda_n$ and eigenvectors $\\mathbf{v}_1, \\dots, \\mathbf{v}_n$.\n",
        "\n",
        "2. Form matrix $P = [\\mathbf{v}_1, \\dots, \\mathbf{v}_n]$ and $D = \\text{diag}(\\lambda_1, \\dots, \\lambda_n)$.\n",
        "\n",
        "3. By definition of eigenvectors:\n",
        "$$\n",
        "A \\mathbf{v}_i = \\lambda_i \\mathbf{v}_i \\quad \\Rightarrow \\quad A P = P D\n",
        "$$\n",
        "\n",
        "4. Multiply both sides by $P^{-1}$:\n",
        "$$\n",
        "A = P D P^{-1}\n",
        "$$\n",
        "\n",
        "5. Powers of $A$:\n",
        "$$\n",
        "A^2 = (P D P^{-1})(P D P^{-1}) = P D^2 P^{-1}\n",
        "$$\n",
        "$$\n",
        "A^k = P D^k P^{-1}\n",
        "$$\n"
      ],
      "metadata": {
        "id": "pY6fJUsPPOtY"
      }
    },
    {
      "cell_type": "markdown",
      "source": [
        "## 3) Computation Steps (Example)\n",
        "\n",
        "**Step 1:** Compute eigenvalues and eigenvectors of $A$:\n",
        "$$\n",
        "A \\mathbf{v}_i = \\lambda_i \\mathbf{v}_i\n",
        "$$\n",
        "\n",
        "**Step 2:** Form $P = [\\mathbf{v}_1, \\dots, \\mathbf{v}_n]$ and $D = \\text{diag}(\\lambda_1, \\dots, \\lambda_n)$.\n",
        "\n",
        "**Step 3:** Verify diagonalization:\n",
        "$$\n",
        "A = P D P^{-1}\n",
        "$$\n",
        "\n",
        "**Step 4:** Compute powers of $A$:\n",
        "$$\n",
        "A^k = P D^k P^{-1}, \\quad D^k = \\text{diag}(\\lambda_1^k, \\dots, \\lambda_n^k)\n",
        "$$\n",
        "\n",
        "**Step 5 (Optional):** Check by reconstructing $A^k$ using standard multiplication and compare.\n"
      ],
      "metadata": {
        "id": "wLRI2dKvPR-g"
      }
    },
    {
      "cell_type": "code",
      "execution_count": 1,
      "metadata": {
        "colab": {
          "base_uri": "https://localhost:8080/"
        },
        "id": "P6guDkBTOecc",
        "outputId": "45d73f78-c19d-4eea-b1ad-cbc4ac62ad75"
      },
      "outputs": [
        {
          "output_type": "stream",
          "name": "stdout",
          "text": [
            "Matrix A:\n",
            " [[4. 1.]\n",
            " [2. 3.]]\n",
            "Eigenvalues: [5.       +0.j 1.9999999+0.j]\n",
            "Eigenvectors (columns of P):\n",
            " [[ 0.70710677+0.j -0.4472136 +0.j]\n",
            " [ 0.70710677+0.j  0.89442724+0.j]]\n",
            "Reconstructed A from diagonalization:\n",
            " [[4.       +0.j 1.       +0.j]\n",
            " [2.0000005+0.j 3.       +0.j]]\n",
            "A^5 computed using diagonalization:\n",
            " [[2094.0005+0.j 1031.    +0.j]\n",
            " [2062.0005+0.j 1063.    +0.j]]\n"
          ]
        }
      ],
      "source": [
        "import jax.numpy as jnp\n",
        "\n",
        "# Example matrix\n",
        "A = jnp.array([[4., 1.],\n",
        "               [2., 3.]])\n",
        "\n",
        "# Compute eigenvalues and eigenvectors\n",
        "eigvals, eigvecs = jnp.linalg.eig(A)\n",
        "\n",
        "# Diagonal matrix D\n",
        "D = jnp.diag(eigvals)\n",
        "\n",
        "# Matrix P (eigenvectors)\n",
        "P = eigvecs\n",
        "\n",
        "# Inverse of P\n",
        "P_inv = jnp.linalg.inv(P)\n",
        "\n",
        "# Verify diagonalization\n",
        "A_reconstructed = P @ D @ P_inv\n",
        "\n",
        "# Compute A^5 using diagonalization\n",
        "D_power = jnp.diag(eigvals**5)\n",
        "A_power_5 = P @ D_power @ P_inv\n",
        "\n",
        "print(\"Matrix A:\\n\", A)\n",
        "print(\"Eigenvalues:\", eigvals)\n",
        "print(\"Eigenvectors (columns of P):\\n\", P)\n",
        "print(\"Reconstructed A from diagonalization:\\n\", A_reconstructed)\n",
        "print(\"A^5 computed using diagonalization:\\n\", A_power_5)\n"
      ]
    },
    {
      "cell_type": "markdown",
      "source": [
        "## 4) Plotting"
      ],
      "metadata": {
        "id": "rU3_QQIdPSxX"
      }
    },
    {
      "cell_type": "code",
      "source": [
        "import matplotlib.pyplot as plt\n",
        "\n",
        "# Original vectors (basis)\n",
        "origin = jnp.zeros(2)\n",
        "v1 = jnp.array([1., 0.])\n",
        "v2 = jnp.array([0., 1.])\n",
        "\n",
        "# Transformation by A\n",
        "Av1 = A @ v1\n",
        "Av2 = A @ v2\n",
        "\n",
        "plt.figure(figsize=(6,6))\n",
        "# Original vectors\n",
        "plt.quiver(*origin, *v1, angles='xy', scale_units='xy', scale=1, color='r', label='v1')\n",
        "plt.quiver(*origin, *v2, angles='xy', scale_units='xy', scale=1, color='b', label='v2')\n",
        "\n",
        "# Transformed vectors\n",
        "plt.quiver(*origin, *Av1, angles='xy', scale_units='xy', scale=1, color='orange', label='A v1')\n",
        "plt.quiver(*origin, *Av2, angles='xy', scale_units='xy', scale=1, color='green', label='A v2')\n",
        "\n",
        "plt.xlim(-1, 6)\n",
        "plt.ylim(-1, 6)\n",
        "plt.grid(True)\n",
        "plt.axhline(0, color='black', linewidth=0.5)\n",
        "plt.axvline(0, color='black', linewidth=0.5)\n",
        "plt.legend()\n",
        "plt.title(\"Transformation by A and Eigenvector Directions\")\n",
        "plt.show()\n"
      ],
      "metadata": {
        "colab": {
          "base_uri": "https://localhost:8080/",
          "height": 545
        },
        "id": "4D-k659UPWsH",
        "outputId": "85aca4ef-4bc4-495a-958c-a396b6e73b9f"
      },
      "execution_count": 2,
      "outputs": [
        {
          "output_type": "display_data",
          "data": {
            "text/plain": [
              "<Figure size 600x600 with 1 Axes>"
            ],
            "image/png": "[encoded data removed]"
          },
          "metadata": {}
        }
      ]
    },
    {
      "cell_type": "markdown",
      "source": [
        "## 5) Use Cases of Diagonalization and Powers of A\n",
        "\n",
        "1. **Efficient Computation:** Compute large powers of matrices quickly using $A^k = P D^k P^{-1}$.\n",
        "2. **Differential Equations:** Solve linear systems of ODEs using eigen-decomposition.\n",
        "3. **Markov Chains:** Compute steady states and long-term behavior using matrix powers.\n",
        "4. **Quantum Mechanics:** Diagonalization for observable operators simplifies computations.\n",
        "5. **PCA & Data Science:** Covariance matrices are diagonalized to find principal components.\n",
        "6. **Control Theory:** Analyze system dynamics and stability using eigenvalues.\n"
      ],
      "metadata": {
        "id": "JmybbyShPYWf"
      }
    }
  ]
}