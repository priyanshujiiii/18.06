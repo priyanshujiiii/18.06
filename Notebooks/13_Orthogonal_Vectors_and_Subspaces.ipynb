{
  "nbformat": 4,
  "nbformat_minor": 0,
  "metadata": {
    "colab": {
      "provenance": []
    },
    "kernelspec": {
      "name": "python3",
      "display_name": "Python 3"
    },
    "language_info": {
      "name": "python"
    }
  },
  "cells": [
    {
      "cell_type": "markdown",
      "source": [
        "# Orthogonal Vectors and Subspaces\n",
        "\n",
        "## 1) Definition\n",
        "\n",
        "**Orthogonal Vectors:** Two vectors $\\mathbf{u}, \\mathbf{v} \\in \\mathbb{R}^n$ are orthogonal if their dot product is zero:\n",
        "\\[\n",
        "\\mathbf{u} \\cdot \\mathbf{v} = 0\n",
        "\\]\n",
        "\n",
        "**Orthogonal Subspaces:** Two subspaces $U$ and $V$ of $\\mathbb{R}^n$ are orthogonal if every vector in $U$ is orthogonal to every vector in $V$:\n",
        "\\[\n",
        "\\forall \\mathbf{u} \\in U, \\mathbf{v} \\in V, \\quad \\mathbf{u} \\cdot \\mathbf{v} = 0\n",
        "\\]\n",
        "\n",
        "**Orthogonal Basis:** A set of vectors $\\{\\mathbf{v}_1, \\mathbf{v}_2, \\dots, \\mathbf{v}_k\\}$ is orthogonal if every pair is orthogonal. If additionally each vector has unit length, the set is an **orthonormal basis**.\n"
      ],
      "metadata": {
        "id": "BhYtHRUgHwbR"
      }
    },
    {
      "cell_type": "markdown",
      "source": [
        "## 2) Derivation\n",
        "\n",
        "For vectors $\\mathbf{u} = [u_1, u_2, \\dots, u_n]$ and $\\mathbf{v} = [v_1, v_2, \\dots, v_n]$:\n",
        "\n",
        "\\[\n",
        "\\mathbf{u} \\cdot \\mathbf{v} = u_1v_1 + u_2v_2 + \\dots + u_nv_n\n",
        "\\]\n",
        "\n",
        "- Orthogonal condition: $\\mathbf{u} \\cdot \\mathbf{v} = 0$\n",
        "- Subspace $U = \\text{span}\\{\\mathbf{u}_1, \\mathbf{u}_2\\}$ and $V = \\text{span}\\{\\mathbf{v}_1, \\mathbf{v}_2\\}$ are orthogonal if:\n",
        "\\[\n",
        "\\mathbf{u}_i \\cdot \\mathbf{v}_j = 0, \\quad \\forall i,j\n",
        "\\]\n",
        "\n",
        "**Example:**  \n",
        "Let $\\mathbf{u} = [1, 0]$, $\\mathbf{v} = [0, 1]$. Then\n",
        "\\[\n",
        "\\mathbf{u} \\cdot \\mathbf{v} = 1*0 + 0*1 = 0\n",
        "\\]\n",
        "so $\\mathbf{u}$ and $\\mathbf{v}$ are orthogonal.\n"
      ],
      "metadata": {
        "id": "TD65d9hqHyko"
      }
    },
    {
      "cell_type": "markdown",
      "source": [
        "## 3) Computation Steps\n",
        "\n",
        "**Step 1:** Identify vectors $$\\mathbf{u}$$ and $$\\mathbf{v}$$.\n",
        "\n",
        "**Step 2:** Compute the dot product:\n",
        "$$\n",
        "\\mathbf{u} \\cdot \\mathbf{v} = \\sum_{i=1}^{n} u_i v_i\n",
        "$$\n",
        "\n",
        "**Step 3:** Check the orthogonality condition:\n",
        "- If $$\\mathbf{u} \\cdot \\mathbf{v} = 0$$, they are orthogonal.\n",
        "- Otherwise, they are not orthogonal.\n",
        "\n",
        "**Step 4 (Optional):** Normalize vectors to create an orthonormal set:\n",
        "$$\n",
        "\\mathbf{\\hat{u}} = \\frac{\\mathbf{u}}{\\|\\mathbf{u}\\|}, \\quad\n",
        "\\mathbf{\\hat{v}} = \\frac{\\mathbf{v}}{\\|\\mathbf{v}\\|}\n",
        "$$\n"
      ],
      "metadata": {
        "id": "SZ8vjrYHH3Sf"
      }
    },
    {
      "cell_type": "code",
      "execution_count": 1,
      "metadata": {
        "colab": {
          "base_uri": "https://localhost:8080/"
        },
        "id": "BL9nLMvjEXaB",
        "outputId": "f6bfca8c-dd42-4ab8-c421-afa815e24a87"
      },
      "outputs": [
        {
          "output_type": "stream",
          "name": "stdout",
          "text": [
            "Dot Product u.v: 0\n",
            "Vectors u and v are orthogonal.\n"
          ]
        }
      ],
      "source": [
        "# Compute orthogonality between two vectors\n",
        "import numpy as np\n",
        "\n",
        "# Define vectors\n",
        "u = np.array([1, 0])\n",
        "v = np.array([0, 1])\n",
        "\n",
        "# Compute dot product\n",
        "dot_product = np.dot(u, v)\n",
        "print(\"Dot Product u.v:\", dot_product)\n",
        "\n",
        "# Check orthogonality\n",
        "if dot_product == 0:\n",
        "    print(\"Vectors u and v are orthogonal.\")\n",
        "else:\n",
        "    print(\"Vectors u and v are not orthogonal.\")\n"
      ]
    },
    {
      "cell_type": "markdown",
      "source": [
        "## 4) Plotting"
      ],
      "metadata": {
        "id": "iqQ_ajGnH5Gg"
      }
    },
    {
      "cell_type": "code",
      "source": [
        "# Plot orthogonal vectors\n",
        "import matplotlib.pyplot as plt\n",
        "\n",
        "plt.figure(figsize=(6,6))\n",
        "plt.quiver(0, 0, u[0], u[1], angles='xy', scale_units='xy', scale=1, color='r', label='u')\n",
        "plt.quiver(0, 0, v[0], v[1], angles='xy', scale_units='xy', scale=1, color='b', label='v')\n",
        "plt.xlim(-1, 2)\n",
        "plt.ylim(-1, 2)\n",
        "plt.grid(True)\n",
        "plt.axhline(0, color='black', linewidth=0.5)\n",
        "plt.axvline(0, color='black', linewidth=0.5)\n",
        "plt.legend()\n",
        "plt.title(\"Orthogonal Vectors u (red) and v (blue)\")\n",
        "plt.show()\n"
      ],
      "metadata": {
        "colab": {
          "base_uri": "https://localhost:8080/",
          "height": 545
        },
        "id": "w19a83jnIFGG",
        "outputId": "4d2e4120-2ccf-4dc8-8161-071142948287"
      },
      "execution_count": 2,
      "outputs": [
        {
          "output_type": "display_data",
          "data": {
            "text/plain": [
              "<Figure size 600x600 with 1 Axes>"
            ],
            "image/png": "[encoded data removed]"
          },
          "metadata": {}
        }
      ]
    },
    {
      "cell_type": "markdown",
      "source": [
        "## 5) Use Cases of Orthogonal Vectors and Subspaces\n",
        "\n",
        "1. **Signal Processing:** Orthogonal signals prevent interference in communication systems.\n",
        "2. **Linear Algebra:** Orthogonal bases simplify computations in projections and decompositions.\n",
        "3. **Machine Learning:** Feature vectors in PCA are orthogonal to capture independent directions of variance.\n",
        "4. **Computer Graphics:** Normal vectors (orthogonal to surfaces) are used for lighting and shading.\n",
        "5. **Optimization:** Orthogonal gradients can be used in conjugate gradient methods.\n"
      ],
      "metadata": {
        "id": "soxLfXJYIIn2"
      }
    }
  ]
}