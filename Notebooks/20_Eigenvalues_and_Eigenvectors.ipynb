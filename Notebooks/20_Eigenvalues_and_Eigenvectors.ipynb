{
  "nbformat": 4,
  "nbformat_minor": 0,
  "metadata": {
    "colab": {
      "provenance": []
    },
    "kernelspec": {
      "name": "python3",
      "display_name": "Python 3"
    },
    "language_info": {
      "name": "python"
    }
  },
  "cells": [
    {
      "cell_type": "markdown",
      "source": [
        "# Eigenvalues and Eigenvectors\n",
        "\n",
        "## 1) Definition\n",
        "\n",
        "For a square matrix $A \\in \\mathbb{R}^{n \\times n}$, a non-zero vector $\\mathbf{v}$ is an **eigenvector** if there exists a scalar $\\lambda$ (called **eigenvalue**) such that:\n",
        "\n",
        "$$\n",
        "A \\mathbf{v} = \\lambda \\mathbf{v}\n",
        "$$\n",
        "\n",
        "- $\\mathbf{v} \\neq 0$\n",
        "- $\\lambda \\in \\mathbb{R}$ (or $\\mathbb{C}$)\n",
        "\n",
        "The eigenvalue equation can be rewritten as:\n",
        "\n",
        "$$\n",
        "(A - \\lambda I)\\mathbf{v} = 0\n",
        "$$\n",
        "\n",
        "which implies:\n",
        "\n",
        "$$\n",
        "\\det(A - \\lambda I) = 0\n",
        "$$\n",
        "\n",
        "This is the **characteristic equation**.\n"
      ],
      "metadata": {
        "id": "GbmF1edsNsWr"
      }
    },
    {
      "cell_type": "markdown",
      "source": [
        "## 2) Derivation\n",
        "\n",
        "1. Start from the eigenvalue equation:\n",
        "$$\n",
        "A \\mathbf{v} = \\lambda \\mathbf{v}\n",
        "$$\n",
        "\n",
        "2. Rewrite:\n",
        "$$\n",
        "A \\mathbf{v} - \\lambda I \\mathbf{v} = 0 \\quad \\Rightarrow \\quad (A - \\lambda I)\\mathbf{v} = 0\n",
        "$$\n",
        "\n",
        "3. For a non-zero vector $\\mathbf{v}$, this implies the matrix $(A - \\lambda I)$ is singular:\n",
        "$$\n",
        "\\det(A - \\lambda I) = 0\n",
        "$$\n",
        "\n",
        "4. Solve the characteristic polynomial $\\det(A - \\lambda I) = 0$ to find eigenvalues $\\lambda$.\n",
        "\n",
        "5. Substitute each eigenvalue $\\lambda$ into $(A - \\lambda I)\\mathbf{v} = 0$ to find the corresponding eigenvector $\\mathbf{v}$.\n"
      ],
      "metadata": {
        "id": "hsMb6NWRNuLw"
      }
    },
    {
      "cell_type": "markdown",
      "source": [
        "## 3) Computation Steps\n",
        "\n",
        "**Step 1:** Given matrix $A$, compute the characteristic polynomial:\n",
        "$$\n",
        "\\det(A - \\lambda I) = 0\n",
        "$$\n",
        "\n",
        "**Step 2:** Solve for eigenvalues $\\lambda_1, \\lambda_2, \\dots, \\lambda_n$.\n",
        "\n",
        "**Step 3:** For each eigenvalue $\\lambda_i$, solve:\n",
        "$$\n",
        "(A - \\lambda_i I) \\mathbf{v}_i = 0\n",
        "$$\n",
        "to get eigenvectors $\\mathbf{v}_i$.\n",
        "\n",
        "**Step 4:** Normalize eigenvectors if required:\n",
        "$$\n",
        "\\hat{\\mathbf{v}}_i = \\frac{\\mathbf{v}_i}{\\|\\mathbf{v}_i\\|}\n",
        "$$\n"
      ],
      "metadata": {
        "id": "WwyAdXTUNwUh"
      }
    },
    {
      "cell_type": "code",
      "source": [
        "import jax.numpy as jnp\n",
        "\n",
        "# Example matrix\n",
        "A = jnp.array([[4., 2.],\n",
        "               [1., 3.]])\n",
        "\n",
        "# Compute eigenvalues and eigenvectors\n",
        "eigvals, eigvecs = jnp.linalg.eig(A)\n",
        "\n",
        "print(\"Matrix A:\\n\", A)\n",
        "print(\"Eigenvalues:\", eigvals)\n",
        "print(\"Eigenvectors (columns):\\n\", eigvecs)\n"
      ],
      "metadata": {
        "colab": {
          "base_uri": "https://localhost:8080/"
        },
        "id": "Wa89VPkiNvrZ",
        "outputId": "71370f86-b198-41e8-9a9f-ee7f418baea8"
      },
      "execution_count": 1,
      "outputs": [
        {
          "output_type": "stream",
          "name": "stdout",
          "text": [
            "Matrix A:\n",
            " [[4. 2.]\n",
            " [1. 3.]]\n",
            "Eigenvalues: [5.       +0.j 1.9999999+0.j]\n",
            "Eigenvectors (columns):\n",
            " [[ 0.89442724+0.j -0.7071068 +0.j]\n",
            " [ 0.44721365+0.j  0.70710677+0.j]]\n"
          ]
        }
      ]
    },
    {
      "cell_type": "markdown",
      "source": [
        "## 4) Plotting"
      ],
      "metadata": {
        "id": "XjReG4hiNx3o"
      }
    },
    {
      "cell_type": "code",
      "execution_count": 2,
      "metadata": {
        "colab": {
          "base_uri": "https://localhost:8080/",
          "height": 580
        },
        "id": "7u21SvGmKAeN",
        "outputId": "4827781a-9d9e-426f-d255-f7aeca669c92"
      },
      "outputs": [
        {
          "output_type": "stream",
          "name": "stderr",
          "text": [
            "/usr/local/lib/python3.12/dist-packages/matplotlib/transforms.py:1853: ComplexWarning: Casting complex values to real discards the imaginary part\n",
            "  return affine_transform(values, mtx)\n"
          ]
        },
        {
          "output_type": "display_data",
          "data": {
            "text/plain": [
              "<Figure size 600x600 with 1 Axes>"
            ],
            "image/png": "[encoded data removed]"
          },
          "metadata": {}
        }
      ],
      "source": [
        "import matplotlib.pyplot as plt\n",
        "\n",
        "# Original 2D vectors for illustration\n",
        "origin = jnp.array([0, 0])\n",
        "eigvec1 = eigvecs[:,0]\n",
        "eigvec2 = eigvecs[:,1]\n",
        "\n",
        "plt.figure(figsize=(6,6))\n",
        "plt.quiver(*origin, *eigvec1, angles='xy', scale_units='xy', scale=1, color='r', label='eigvec1')\n",
        "plt.quiver(*origin, *eigvec2, angles='xy', scale_units='xy', scale=1, color='b', label='eigvec2')\n",
        "\n",
        "plt.xlim(-2, 2)\n",
        "plt.ylim(-2, 2)\n",
        "plt.grid(True)\n",
        "plt.axhline(0, color='black', linewidth=0.5)\n",
        "plt.axvline(0, color='black', linewidth=0.5)\n",
        "plt.legend()\n",
        "plt.title(\"Eigenvectors of A\")\n",
        "plt.show()\n"
      ]
    },
    {
      "cell_type": "markdown",
      "source": [
        "## 5) Use Cases of Eigenvalues and Eigenvectors\n",
        "\n",
        "1. **Diagonalization:** Transform $A$ into $PDP^{-1}$ where $D$ is diagonal with eigenvalues.\n",
        "2. **PCA (Principal Component Analysis):** Eigenvectors of covariance matrix identify principal directions.\n",
        "3. **Differential Equations:** Solve systems of linear ODEs using eigenvalues.\n",
        "4. **Stability Analysis:** Eigenvalues of a system matrix determine stability of equilibria.\n",
        "5. **Quantum Mechanics:** Operators have eigenvalues representing measurable quantities.\n",
        "6. **Graph Theory:** Eigenvalues of adjacency or Laplacian matrices give connectivity and spectral properties.\n"
      ],
      "metadata": {
        "id": "X-RshWLsN2Ow"
      }
    }
  ]
}