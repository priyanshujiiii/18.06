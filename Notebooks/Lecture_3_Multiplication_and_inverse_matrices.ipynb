{
  "nbformat": 4,
  "nbformat_minor": 0,
  "metadata": {
    "colab": {
      "provenance": []
    },
    "kernelspec": {
      "name": "python3",
      "display_name": "Python 3"
    },
    "language_info": {
      "name": "python"
    }
  },
  "cells": [
    {
      "cell_type": "markdown",
      "source": [
        "## Matrix Multiplication\n",
        "\n",
        "### Row-wise multiplication:\n",
        "$$\n",
        "\\text{Each row } i: \\quad \\mathbf{C}_{i,:} = \\mathbf{A}_{i,:} \\cdot \\mathbf{B}\n",
        "$$\n",
        "\n",
        "### Column-wise multiplication:\n",
        "$$\n",
        "\\text{Each column } j: \\quad \\mathbf{C}_{:,j} = \\mathbf{A} \\cdot \\mathbf{B}_{:,j}\n",
        "$$\n",
        "\n",
        "---\n",
        "\n",
        "## Block Matrix Multiplication\n",
        "\n",
        "$$\n",
        "\\mathbf{C} = \\mathbf{A} \\cdot \\mathbf{B}\n",
        "$$\n",
        "\n",
        "---\n",
        "\n",
        "## Matrix Inverse\n",
        "\n",
        "$$\n",
        "\\mathbf{A}^{-1} \\cdot \\mathbf{A} = \\mathbf{I}\n",
        "$$\n",
        "\n",
        "---\n",
        "\n",
        "## Gauss-Jordan Elimination\n",
        "\n",
        "Step-by-step process:\n",
        "\n",
        "1. Normalize pivot rows:\n",
        "   $$\n",
        "   A_{i,:} \\leftarrow \\frac{A_{i,:}}{A_{ii}}, \\quad b_i \\leftarrow \\frac{b_i}{A_{ii}}\n",
        "   $$\n",
        "\n",
        "2. Eliminate other rows:\n",
        "   $$\n",
        "   A_{j,:} \\leftarrow A_{j,:} - A_{ji} A_{i,:}, \\quad b_j \\leftarrow b_j - A_{ji} b_i\n",
        "   $$\n",
        "\n",
        "Final solution:\n",
        "$$\n",
        "x = \\begin{bmatrix}\n",
        "x_1 \\\\\n",
        "x_2 \\\\\n",
        "x_3\n",
        "\\end{bmatrix}\n",
        "$$\n"
      ],
      "metadata": {
        "id": "GeT1lntsfnY9"
      }
    },
    {
      "cell_type": "markdown",
      "source": [
        "# Row-wise Multiplication"
      ],
      "metadata": {
        "id": "U4JjvuZVfxdC"
      }
    },
    {
      "cell_type": "code",
      "execution_count": 1,
      "metadata": {
        "id": "BuhmHOcGZcrh"
      },
      "outputs": [],
      "source": [
        "import jax.numpy as jnp\n",
        "\n",
        "def matmul_rowwise(A, B):\n",
        "    rows, cols = A.shape[0], B.shape[1]\n",
        "    result = jnp.zeros((A.shape[0], B.shape[1]))\n",
        "    for i in range(rows):\n",
        "        row = A[i]\n",
        "        result = result.at[i].set(row @ B)\n",
        "    return result\n"
      ]
    },
    {
      "cell_type": "markdown",
      "source": [
        "# Column-wise Multiplication"
      ],
      "metadata": {
        "id": "O9S8jgz6f4jE"
      }
    },
    {
      "cell_type": "code",
      "source": [
        "def matmul_columnwise(A, B):\n",
        "    rows, cols = A.shape[0], B.shape[1]\n",
        "    result = jnp.zeros((A.shape[0], B.shape[1]))\n",
        "    for j in range(cols):\n",
        "        col = B[:, j]\n",
        "        result = result.at[:, j].set(A @ col)\n",
        "    return result\n"
      ],
      "metadata": {
        "id": "HPVyLnG6gAK7"
      },
      "execution_count": 2,
      "outputs": []
    },
    {
      "cell_type": "markdown",
      "source": [
        "# Block Matrix Multiplication"
      ],
      "metadata": {
        "id": "eyyfA8hZgLFJ"
      }
    },
    {
      "cell_type": "code",
      "source": [
        "def block_matrix_multiplication(A, B):\n",
        "    return A @ B  # Standard matrix multiplication handles blocks"
      ],
      "metadata": {
        "id": "v1RNAAaegNry"
      },
      "execution_count": 3,
      "outputs": []
    },
    {
      "cell_type": "markdown",
      "source": [
        "# Matrix Inverse"
      ],
      "metadata": {
        "id": "4I4xDU0qgOMe"
      }
    },
    {
      "cell_type": "code",
      "source": [
        "import jax.numpy as jnp\n",
        "\n",
        "def matrix_inverse(A):\n",
        "    A = A.copy()\n",
        "    n = A.shape[0]\n",
        "    I = jnp.eye(n)\n",
        "\n",
        "    # Augmented matrix [A | I]\n",
        "    aug = jnp.hstack([A, I])\n",
        "\n",
        "    print(\"Initial Augmented Matrix [A | I]:\")\n",
        "    print(aug, \"\\n\")\n",
        "\n",
        "    for i in range(n):\n",
        "        pivot = aug[i, i]\n",
        "        # Normalize the pivot row\n",
        "        aug = aug.at[i].set(aug[i] / pivot)\n",
        "        print(f\"Step {i+1}: Normalize row {i} by dividing by pivot {pivot}:\")\n",
        "        print(aug, \"\\n\")\n",
        "\n",
        "        # Eliminate all other elements in current column\n",
        "        for j in range(n):\n",
        "            if j != i:\n",
        "                factor = aug[j, i]\n",
        "                aug = aug.at[j].set(aug[j] - factor * aug[i])\n",
        "                print(f\"Eliminate element at position ({j},{i}) using row {i}:\")\n",
        "                print(aug, \"\\n\")\n",
        "\n",
        "    # The right half of aug is the inverse\n",
        "    A_inv = aug[:, n:]\n",
        "    return A_inv\n"
      ],
      "metadata": {
        "id": "hUjgc3VHgRSp"
      },
      "execution_count": 4,
      "outputs": []
    },
    {
      "cell_type": "markdown",
      "source": [
        "# Gauss-Jordan Elimination (with Step-by-Step Print)"
      ],
      "metadata": {
        "id": "k_Djk8WzgT7Y"
      }
    },
    {
      "cell_type": "code",
      "source": [
        "def gauss_jordan_elimination(A, b):\n",
        "    A = A.copy()\n",
        "    b = b.copy()\n",
        "    n = A.shape[0]\n",
        "\n",
        "    print(\"Initial Augmented Matrix [A | b]:\")\n",
        "    print(jnp.hstack([A, b.reshape(-1,1)]), \"\\n\")\n",
        "\n",
        "    # Forward Elimination + Normalize pivot and eliminate all others\n",
        "    for i in range(n):\n",
        "        pivot = A[i, i]\n",
        "        A = A.at[i].set(A[i] / pivot)\n",
        "        b = b.at[i].set(b[i] / pivot)\n",
        "        print(f\"Normalize row {i}:\")\n",
        "        print(jnp.hstack([A, b.reshape(-1,1)]), \"\\n\")\n",
        "\n",
        "        for j in range(n):\n",
        "            if j != i:\n",
        "                factor = A[j, i]\n",
        "                A = A.at[j].set(A[j] - factor * A[i])\n",
        "                b = b.at[j].set(b[j] - factor * b[i])\n",
        "                print(f\"Eliminate element A[{j},{i}] using row {i}:\")\n",
        "                print(jnp.hstack([A, b.reshape(-1,1)]), \"\\n\")\n",
        "\n",
        "    return b  # Final solution\n"
      ],
      "metadata": {
        "id": "VtwghzXPgWlD"
      },
      "execution_count": 5,
      "outputs": []
    },
    {
      "cell_type": "code",
      "source": [
        "# Example matrices\n",
        "A = jnp.array([[2.0, 1.0, -1.0],\n",
        "               [-3.0, -1.0, 2.0],\n",
        "               [-2.0, 1.0, 2.0]])\n",
        "\n",
        "b = jnp.array([8.0, -11.0, -3.0])\n",
        "\n",
        "print(\"=== Gauss-Jordan Elimination ===\")\n",
        "solution = gauss_jordan_elimination(A, b)\n",
        "print(\"Final Solution x:\", solution)\n",
        "\n",
        "print(\"\\n=== Matrix Multiplication ===\")\n",
        "A2 = jnp.array([[1.0, 2.0], [3.0, 4.0]])\n",
        "B2 = jnp.array([[5.0, 6.0], [7.0, 8.0]])\n",
        "\n",
        "rowwise = matmul_rowwise(A2, B2)\n",
        "columnwise = matmul_columnwise(A2, B2)\n",
        "block_mult = block_matrix_multiplication(A2, B2)\n",
        "print(\"\\n=== Matrix Inverse ===\")\n",
        "inverse = matrix_inverse(A2)\n",
        "print(\"Inverse of A2:\\n\", inverse)\n",
        "\n",
        "print(\"Row-wise multiplication result:\\n\", rowwise)\n",
        "print(\"Column-wise multiplication result:\\n\", columnwise)\n",
        "print(\"Block matrix multiplication result:\\n\", block_mult)\n",
        "\n"
      ],
      "metadata": {
        "colab": {
          "base_uri": "https://localhost:8080/"
        },
        "id": "EwsrtuthgbC_",
        "outputId": "25f60bab-cac6-4b95-a9da-6e70646890bb"
      },
      "execution_count": 6,
      "outputs": [
        {
          "output_type": "stream",
          "name": "stdout",
          "text": [
            "=== Gauss-Jordan Elimination ===\n",
            "Initial Augmented Matrix [A | b]:\n",
            "[[  2.   1.  -1.   8.]\n",
            " [ -3.  -1.   2. -11.]\n",
            " [ -2.   1.   2.  -3.]] \n",
            "\n",
            "Normalize row 0:\n",
            "[[  1.    0.5  -0.5   4. ]\n",
            " [ -3.   -1.    2.  -11. ]\n",
            " [ -2.    1.    2.   -3. ]] \n",
            "\n",
            "Eliminate element A[1,0] using row 0:\n",
            "[[ 1.   0.5 -0.5  4. ]\n",
            " [ 0.   0.5  0.5  1. ]\n",
            " [-2.   1.   2.  -3. ]] \n",
            "\n",
            "Eliminate element A[2,0] using row 0:\n",
            "[[ 1.   0.5 -0.5  4. ]\n",
            " [ 0.   0.5  0.5  1. ]\n",
            " [ 0.   2.   1.   5. ]] \n",
            "\n",
            "Normalize row 1:\n",
            "[[ 1.   0.5 -0.5  4. ]\n",
            " [ 0.   1.   1.   2. ]\n",
            " [ 0.   2.   1.   5. ]] \n",
            "\n",
            "Eliminate element A[0,1] using row 1:\n",
            "[[ 1.  0. -1.  3.]\n",
            " [ 0.  1.  1.  2.]\n",
            " [ 0.  2.  1.  5.]] \n",
            "\n",
            "Eliminate element A[2,1] using row 1:\n",
            "[[ 1.  0. -1.  3.]\n",
            " [ 0.  1.  1.  2.]\n",
            " [ 0.  0. -1.  1.]] \n",
            "\n",
            "Normalize row 2:\n",
            "[[ 1.  0. -1.  3.]\n",
            " [ 0.  1.  1.  2.]\n",
            " [-0. -0.  1. -1.]] \n",
            "\n",
            "Eliminate element A[0,2] using row 2:\n",
            "[[ 1.  0.  0.  2.]\n",
            " [ 0.  1.  1.  2.]\n",
            " [-0. -0.  1. -1.]] \n",
            "\n",
            "Eliminate element A[1,2] using row 2:\n",
            "[[ 1.  0.  0.  2.]\n",
            " [ 0.  1.  0.  3.]\n",
            " [-0. -0.  1. -1.]] \n",
            "\n",
            "Final Solution x: [ 2.  3. -1.]\n",
            "\n",
            "=== Matrix Multiplication ===\n",
            "\n",
            "=== Matrix Inverse ===\n",
            "Initial Augmented Matrix [A | I]:\n",
            "[[1. 2. 1. 0.]\n",
            " [3. 4. 0. 1.]] \n",
            "\n",
            "Step 1: Normalize row 0 by dividing by pivot 1.0:\n",
            "[[1. 2. 1. 0.]\n",
            " [3. 4. 0. 1.]] \n",
            "\n",
            "Eliminate element at position (1,0) using row 0:\n",
            "[[ 1.  2.  1.  0.]\n",
            " [ 0. -2. -3.  1.]] \n",
            "\n",
            "Step 2: Normalize row 1 by dividing by pivot -2.0:\n",
            "[[ 1.   2.   1.   0. ]\n",
            " [-0.   1.   1.5 -0.5]] \n",
            "\n",
            "Eliminate element at position (0,1) using row 1:\n",
            "[[ 1.   0.  -2.   1. ]\n",
            " [-0.   1.   1.5 -0.5]] \n",
            "\n",
            "Inverse of A2:\n",
            " [[-2.   1. ]\n",
            " [ 1.5 -0.5]]\n",
            "Row-wise multiplication result:\n",
            " [[19. 22.]\n",
            " [43. 50.]]\n",
            "Column-wise multiplication result:\n",
            " [[19. 22.]\n",
            " [43. 50.]]\n",
            "Block matrix multiplication result:\n",
            " [[19. 22.]\n",
            " [43. 50.]]\n"
          ]
        }
      ]
    },
    {
      "cell_type": "code",
      "source": [],
      "metadata": {
        "id": "zPVsGCYogw6r"
      },
      "execution_count": null,
      "outputs": []
    }
  ]
}