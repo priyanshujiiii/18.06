{
  "nbformat": 4,
  "nbformat_minor": 0,
  "metadata": {
    "colab": {
      "provenance": []
    },
    "kernelspec": {
      "name": "python3",
      "display_name": "Python 3"
    },
    "language_info": {
      "name": "python"
    }
  },
  "cells": [
    {
      "cell_type": "markdown",
      "source": [
        "# Graphs, Networks, and Incidence Matrices\n",
        "\n",
        "## 1) Definition\n",
        "\n",
        "**Graph (G)**: A graph is a pair $G = (V, E)$ where:\n",
        "- $V$ is a set of vertices (nodes)\n",
        "- $E$ is a set of edges (connections between nodes)\n",
        "\n",
        "**Network**: A network is a graph where edges may have weights representing capacities, distances, or costs.\n",
        "\n",
        "**Incidence Matrix (B)**: The incidence matrix of a graph is a $|V| \\times |E|$ matrix that shows the relationship between vertices and edges:\n",
        "\\[\n",
        "B_{i,j} =\n",
        "\\begin{cases}\n",
        "1 & \\text{if vertex $i$ is the start of edge $j$} \\\\\n",
        "-1 & \\text{if vertex $i$ is the end of edge $j$} \\\\\n",
        "0 & \\text{otherwise}\n",
        "\\end{cases}\n",
        "\\]\n"
      ],
      "metadata": {
        "id": "mpf6c1WnHGOC"
      }
    },
    {
      "cell_type": "markdown",
      "source": [
        "## 2) Derivation of Incidence Matrix\n",
        "\n",
        "Consider a graph with:\n",
        "- Vertices: $V = \\{v_1, v_2, v_3\\}$\n",
        "- Edges: $E = \\{e_1, e_2\\}$, where $e_1 = (v_1, v_2)$ and $e_2 = (v_2, v_3)$\n",
        "\n",
        "The incidence matrix $B$ has dimensions $|V| \\times |E| = 3 \\times 2$.\n",
        "\n",
        "For each edge:\n",
        "- $e_1$ starts at $v_1$ → $B[1,1] = 1$, ends at $v_2$ → $B[2,1] = -1$\n",
        "- $e_2$ starts at $v_2$ → $B[2,2] = 1$, ends at $v_3$ → $B[3,2] = -1$\n",
        "\n",
        "So,\n",
        "\\[\n",
        "B =\n",
        "\\begin{bmatrix}\n",
        "1 & 0 \\\\\n",
        "-1 & 1 \\\\\n",
        "0 & -1\n",
        "\\end{bmatrix}\n",
        "\\]\n"
      ],
      "metadata": {
        "id": "yXjrGe5pHJk_"
      }
    },
    {
      "cell_type": "markdown",
      "source": [
        "## 3) Computation\n",
        "\n",
        "**Step-by-step:**\n",
        "\n",
        "1. Identify all nodes and edges of the graph.\n",
        "2. Initialize a $|V| \\times |E|$ zero matrix.\n",
        "3. For each edge:\n",
        "   - Place `1` at the row corresponding to the starting node\n",
        "   - Place `-1` at the row corresponding to the ending node\n",
        "   - Keep `0` elsewhere\n",
        "4. The resulting matrix is the incidence matrix.\n",
        "\n",
        "Example:\n",
        "- Edge $e_1 = (v_1, v_2)$ → `1` at $v_1$, `-1` at $v_2`\n",
        "- Edge $e_2 = (v_2, v_3)$ → `1` at $v_2$, `-1` at $v_3$\n"
      ],
      "metadata": {
        "id": "2i6yGPgIHRCX"
      }
    },
    {
      "cell_type": "code",
      "execution_count": 1,
      "metadata": {
        "colab": {
          "base_uri": "https://localhost:8080/"
        },
        "id": "ooag2DRxEY4M",
        "outputId": "48f1fe44-3a66-4ad6-8c02-edd3ceeda85d"
      },
      "outputs": [
        {
          "output_type": "stream",
          "name": "stdout",
          "text": [
            "Incidence Matrix B:\n",
            "[[ 1.  0.]\n",
            " [-1.  1.]\n",
            " [ 0. -1.]]\n"
          ]
        }
      ],
      "source": [
        "# Compute the incidence matrix using numpy\n",
        "import numpy as np\n",
        "\n",
        "# Graph edges: (start, end)\n",
        "edges = [(0, 1), (1, 2)]  # 0-indexed nodes\n",
        "num_nodes = 3\n",
        "num_edges = len(edges)\n",
        "\n",
        "# Initialize incidence matrix\n",
        "B = np.zeros((num_nodes, num_edges))\n",
        "\n",
        "# Fill the incidence matrix\n",
        "for j, (start, end) in enumerate(edges):\n",
        "    B[start, j] = 1\n",
        "    B[end, j] = -1\n",
        "\n",
        "print(\"Incidence Matrix B:\")\n",
        "print(B)\n"
      ]
    },
    {
      "cell_type": "markdown",
      "source": [
        "## 4) Plotting"
      ],
      "metadata": {
        "id": "F9bfcQGkHbew"
      }
    },
    {
      "cell_type": "code",
      "source": [
        "# Plot the graph\n",
        "import networkx as nx\n",
        "import matplotlib.pyplot as plt\n",
        "\n",
        "# Create directed graph\n",
        "G = nx.DiGraph()\n",
        "G.add_edges_from(edges)\n",
        "\n",
        "# Draw the graph\n",
        "pos = nx.spring_layout(G)  # layout of nodes\n",
        "nx.draw(G, pos, with_labels=True, node_color='lightblue', node_size=1000, arrowsize=20)\n",
        "edge_labels = {(u, v): f\"e{i+1}\" for i, (u, v) in enumerate(edges)}\n",
        "nx.draw_networkx_edge_labels(G, pos, edge_labels=edge_labels)\n",
        "plt.title(\"Directed Graph with Edge Labels\")\n",
        "plt.show()\n"
      ],
      "metadata": {
        "colab": {
          "base_uri": "https://localhost:8080/",
          "height": 539
        },
        "id": "yrUzELZFHTmo",
        "outputId": "d6be73b6-45b4-49ec-db54-2af19d32334b"
      },
      "execution_count": 2,
      "outputs": [
        {
          "output_type": "display_data",
          "data": {
            "text/plain": [
              "<Figure size 640x480 with 1 Axes>"
            ],
            "image/png": "[encoded data removed]"
          },
          "metadata": {}
        }
      ]
    },
    {
      "cell_type": "markdown",
      "source": [
        "## 5) Use Cases\n",
        "\n",
        "1. **Network Flow Analysis**: Incidence matrices are used in flow algorithms (max-flow, min-cost flow).\n",
        "2. **Electrical Circuits**: Nodes = junctions, edges = components; incidence matrix helps in solving Kirchhoff's laws.\n",
        "3. **Graph Theory Computations**: Find cycles, spanning trees, or connectivity.\n",
        "4. **Machine Learning**: Graph-based learning (GNNs) uses adjacency and incidence matrices.\n",
        "5. **Transportation Networks**: Edge weights represent distances or travel time; incidence matrix models constraints.\n"
      ],
      "metadata": {
        "id": "DJeSPl42HaCo"
      }
    }
  ]
}