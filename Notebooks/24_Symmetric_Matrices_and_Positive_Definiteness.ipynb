{
  "nbformat": 4,
  "nbformat_minor": 0,
  "metadata": {
    "colab": {
      "provenance": []
    },
    "kernelspec": {
      "name": "python3",
      "display_name": "Python 3"
    },
    "language_info": {
      "name": "python"
    }
  },
  "cells": [
    {
      "cell_type": "markdown",
      "source": [
        "# Symmetric Matrices and Positive Definiteness\n",
        "\n",
        "## 1) Definition\n",
        "\n",
        "A **symmetric matrix** $A \\in \\mathbb{R}^{n \\times n}$ satisfies:\n",
        "\n",
        "$$\n",
        "A = A^T\n",
        "$$\n",
        "\n",
        "A **positive definite matrix** $A$ satisfies:\n",
        "\n",
        "$$\n",
        "\\mathbf{x}^T A \\mathbf{x} > 0 \\quad \\forall \\mathbf{x} \\in \\mathbb{R}^n, \\mathbf{x} \\neq 0\n",
        "$$\n",
        "\n",
        "- **Positive semi-definite:** $\\mathbf{x}^T A \\mathbf{x} \\ge 0$\n",
        "- **Negative definite:** $\\mathbf{x}^T A \\mathbf{x} < 0$\n",
        "- **Negative semi-definite:** $\\mathbf{x}^T A \\mathbf{x} \\le 0$\n"
      ],
      "metadata": {
        "id": "X_7sWWSCSIdu"
      }
    },
    {
      "cell_type": "markdown",
      "source": [
        "## 2) Derivation\n",
        "\n",
        "1. For a symmetric matrix $A = A^T$, the eigenvalues are real:\n",
        "$$\n",
        "A \\mathbf{v} = \\lambda \\mathbf{v}, \\quad \\lambda \\in \\mathbb{R}\n",
        "$$\n",
        "\n",
        "2. Positive definiteness can be verified using eigenvalues:\n",
        "$$\n",
        "A \\text{ is positive definite} \\iff \\lambda_i > 0 \\quad \\forall i\n",
        "$$\n",
        "\n",
        "3. Quadratic form representation:\n",
        "$$\n",
        "\\mathbf{x}^T A \\mathbf{x} > 0 \\quad \\forall \\mathbf{x} \\neq 0\n",
        "$$\n",
        "\n",
        "4. Cholesky decomposition (optional):\n",
        "$$\n",
        "A = LL^T \\quad \\text{exists iff $A$ is symmetric positive definite}\n",
        "$$\n"
      ],
      "metadata": {
        "id": "Ngr9-eMvSKks"
      }
    },
    {
      "cell_type": "markdown",
      "source": [
        "## 3) Computation Steps\n",
        "\n",
        "**Step 1:** Check symmetry:\n",
        "$$\n",
        "A^T = A\n",
        "$$\n",
        "\n",
        "**Step 2:** Compute eigenvalues:\n",
        "$$\n",
        "\\text{eigvals}(A) = \\lambda_1, \\dots, \\lambda_n\n",
        "$$\n",
        "\n",
        "**Step 3:** Check positive definiteness:\n",
        "- If $\\lambda_i > 0$ for all $i$, $A$ is positive definite.\n",
        "- If $\\lambda_i \\ge 0$ for all $i$, $A$ is positive semi-definite.\n",
        "- If any $\\lambda_i < 0$, $A$ is not positive definite.\n",
        "\n",
        "**Step 4 (Optional):** Check quadratic form for a sample vector $\\mathbf{x}$:\n",
        "$$\n",
        "\\mathbf{x}^T A \\mathbf{x} > 0\n",
        "$$\n"
      ],
      "metadata": {
        "id": "rW_ul3hoSMY8"
      }
    },
    {
      "cell_type": "code",
      "execution_count": 1,
      "metadata": {
        "colab": {
          "base_uri": "https://localhost:8080/"
        },
        "id": "VEAnRHzKOb8u",
        "outputId": "aeb62f84-fc76-4333-f1fc-917a6ed875b9"
      },
      "outputs": [
        {
          "output_type": "stream",
          "name": "stdout",
          "text": [
            "Matrix A:\n",
            " [[ 2. -1.]\n",
            " [-1.  2.]]\n",
            "Is symmetric: True\n",
            "Eigenvalues: [1. 3.]\n",
            "Positive definite: True\n",
            "Positive semi-definite: True\n",
            "Quadratic form x^T A x: 2.0\n"
          ]
        }
      ],
      "source": [
        "import jax.numpy as jnp\n",
        "\n",
        "# Example symmetric matrix\n",
        "A = jnp.array([[2., -1.],\n",
        "               [-1., 2.]])\n",
        "\n",
        "# Step 1: Check symmetry\n",
        "is_symmetric = jnp.allclose(A, A.T)\n",
        "\n",
        "# Step 2: Compute eigenvalues\n",
        "eigvals = jnp.linalg.eigvalsh(A)  # optimized for symmetric matrices\n",
        "\n",
        "# Step 3: Check positive definiteness\n",
        "is_pos_def = jnp.all(eigvals > 0)\n",
        "is_pos_semi_def = jnp.all(eigvals >= 0)\n",
        "\n",
        "print(\"Matrix A:\\n\", A)\n",
        "print(\"Is symmetric:\", is_symmetric)\n",
        "print(\"Eigenvalues:\", eigvals)\n",
        "print(\"Positive definite:\", is_pos_def)\n",
        "print(\"Positive semi-definite:\", is_pos_semi_def)\n",
        "\n",
        "# Step 4: Quadratic form check\n",
        "x = jnp.array([1., 1.])\n",
        "quad_form = x.T @ A @ x\n",
        "print(\"Quadratic form x^T A x:\", quad_form)\n"
      ]
    },
    {
      "cell_type": "markdown",
      "source": [
        "## 4) Plotting"
      ],
      "metadata": {
        "id": "ZcMcmSoQSP1M"
      }
    },
    {
      "cell_type": "code",
      "source": [
        "import matplotlib.pyplot as plt\n",
        "\n",
        "# Create grid\n",
        "x1 = jnp.linspace(-3, 3, 100)\n",
        "x2 = jnp.linspace(-3, 3, 100)\n",
        "X1, X2 = jnp.meshgrid(x1, x2)\n",
        "\n",
        "# Compute quadratic form values\n",
        "Z = A[0,0]*X1**2 + 2*A[0,1]*X1*X2 + A[1,1]*X2**2\n",
        "\n",
        "plt.figure(figsize=(6,5))\n",
        "plt.contourf(X1, X2, Z, levels=20, cmap='viridis')\n",
        "plt.colorbar(label='x^T A x')\n",
        "plt.xlabel('x1')\n",
        "plt.ylabel('x2')\n",
        "plt.title('Quadratic Form of Symmetric Positive Definite Matrix')\n",
        "plt.show()\n"
      ],
      "metadata": {
        "colab": {
          "base_uri": "https://localhost:8080/",
          "height": 487
        },
        "id": "S2JceFm4SR8_",
        "outputId": "4220686c-e6f2-4645-c4f7-c6ca6c44cba4"
      },
      "execution_count": 2,
      "outputs": [
        {
          "output_type": "display_data",
          "data": {
            "text/plain": [
              "<Figure size 600x500 with 2 Axes>"
            ],
            "image/png": "[encoded data removed]"
          },
          "metadata": {}
        }
      ]
    },
    {
      "cell_type": "markdown",
      "source": [
        "## 5) Use Cases of Symmetric Positive Definite Matrices\n",
        "\n",
        "1. **Optimization:** Hessian matrices in convex optimization are symmetric positive definite.\n",
        "2. **Cholesky Decomposition:** Efficiently solve linear systems $Ax = b$.\n",
        "3. **Machine Learning:** Kernel matrices in Gaussian Processes are symmetric positive definite.\n",
        "4. **Physics & Engineering:** Energy matrices and stiffness matrices are often symmetric positive definite.\n",
        "5. **Numerical Stability:** Ensures stability in iterative solvers for linear systems.\n",
        "6. **PCA & Covariance Matrices:** Covariance matrices are symmetric positive semi-definite.\n"
      ],
      "metadata": {
        "id": "S3hckIxqSUxd"
      }
    }
  ]
}