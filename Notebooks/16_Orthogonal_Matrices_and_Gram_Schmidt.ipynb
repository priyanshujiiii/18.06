{
  "nbformat": 4,
  "nbformat_minor": 0,
  "metadata": {
    "colab": {
      "provenance": []
    },
    "kernelspec": {
      "name": "python3",
      "display_name": "Python 3"
    },
    "language_info": {
      "name": "python"
    }
  },
  "cells": [
    {
      "cell_type": "markdown",
      "source": [
        "# Orthogonal Matrices and Gram-Schmidt\n",
        "\n",
        "## 1) Definition\n",
        "\n",
        "**Orthogonal Matrix:** A square matrix $Q \\in \\mathbb{R}^{n \\times n}$ is **orthogonal** if:\n",
        "\n",
        "$$\n",
        "Q^T Q = Q Q^T = I\n",
        "$$\n",
        "\n",
        "This implies its columns (and rows) form an orthonormal set.\n",
        "\n",
        "**Gram-Schmidt Process:** A method to convert a set of linearly independent vectors $\\{\\mathbf{v}_1, \\dots, \\mathbf{v}_n\\}$ into an **orthonormal set** $\\{\\mathbf{q}_1, \\dots, \\mathbf{q}_n\\}$:\n",
        "\n",
        "1. Initialize $\\mathbf{q}_1 = \\frac{\\mathbf{v}_1}{\\|\\mathbf{v}_1\\|}$.\n",
        "2. For $k = 2, \\dots, n$:\n",
        "$$\n",
        "\\mathbf{u}_k = \\mathbf{v}_k - \\sum_{j=1}^{k-1} (\\mathbf{v}_k \\cdot \\mathbf{q}_j) \\mathbf{q}_j, \\quad\n",
        "\\mathbf{q}_k = \\frac{\\mathbf{u}_k}{\\|\\mathbf{u}_k\\|}\n",
        "$$\n"
      ],
      "metadata": {
        "id": "b9soZyslK62W"
      }
    },
    {
      "cell_type": "markdown",
      "source": [
        "## 2) Derivation\n",
        "\n",
        "**Goal:** Construct orthonormal vectors $\\{\\mathbf{q}_1, \\dots, \\mathbf{q}_n\\}$ from linearly independent vectors $\\{\\mathbf{v}_1, \\dots, \\mathbf{v}_n\\}$.\n",
        "\n",
        "1. Start with $\\mathbf{q}_1 = \\frac{\\mathbf{v}_1}{\\|\\mathbf{v}_1\\|}$.\n",
        "\n",
        "2. For each subsequent vector $\\mathbf{v}_k$, subtract its projection onto all previously computed orthonormal vectors:\n",
        "$$\n",
        "\\mathbf{u}_k = \\mathbf{v}_k - \\sum_{j=1}^{k-1} (\\mathbf{v}_k \\cdot \\mathbf{q}_j) \\mathbf{q}_j\n",
        "$$\n",
        "\n",
        "3. Normalize $\\mathbf{u}_k$ to obtain $\\mathbf{q}_k$:\n",
        "$$\n",
        "\\mathbf{q}_k = \\frac{\\mathbf{u}_k}{\\|\\mathbf{u}_k\\|}\n",
        "$$\n",
        "\n",
        "**Result:** Columns of $Q = [\\mathbf{q}_1, \\dots, \\mathbf{q}_n]$ form an orthogonal matrix.\n"
      ],
      "metadata": {
        "id": "YkCx85oLK_r8"
      }
    },
    {
      "cell_type": "markdown",
      "source": [
        "## 3) Computation Steps\n",
        "\n",
        "**Step 1:** Take linearly independent vectors $\\mathbf{v}_1, \\dots, \\mathbf{v}_n$ as columns of $V$.\n",
        "\n",
        "**Step 2:** Initialize the first orthonormal vector:\n",
        "$$\n",
        "\\mathbf{q}_1 = \\frac{\\mathbf{v}_1}{\\|\\mathbf{v}_1\\|}\n",
        "$$\n",
        "\n",
        "**Step 3:** For $k = 2, \\dots, n$, subtract projections onto previous $\\mathbf{q}_j$:\n",
        "$$\n",
        "\\mathbf{u}_k = \\mathbf{v}_k - \\sum_{j=1}^{k-1} (\\mathbf{v}_k \\cdot \\mathbf{q}_j)\\mathbf{q}_j\n",
        "$$\n",
        "\n",
        "**Step 4:** Normalize $\\mathbf{u}_k$ to get $\\mathbf{q}_k$:\n",
        "$$\n",
        "\\mathbf{q}_k = \\frac{\\mathbf{u}_k}{\\|\\mathbf{u}_k\\|}\n",
        "$$\n",
        "\n",
        "**Step 5:** Stack $\\mathbf{q}_1, \\dots, \\mathbf{q}_n$ as columns of $Q$. Then $Q^T Q = I$.\n"
      ],
      "metadata": {
        "id": "GgZib6z1LCuT"
      }
    },
    {
      "cell_type": "code",
      "execution_count": null,
      "metadata": {
        "colab": {
          "base_uri": "https://localhost:8080/"
        },
        "id": "9tmfRYYAKFEO",
        "outputId": "97a80ab0-9389-4da2-aaf8-622c9fe62a34"
      },
      "outputs": [
        {
          "output_type": "stream",
          "name": "stdout",
          "text": [
            "Orthonormal matrix Q:\n",
            " [[ 0.70710677  0.40824828 -0.5773503 ]\n",
            " [ 0.70710677 -0.40824825  0.5773503 ]\n",
            " [ 0.          0.81649655  0.5773503 ]]\n",
            "Check orthogonality Q^T Q:\n",
            " [[9.99999940e-01 3.14007060e-08 1.29757645e-08]\n",
            " [3.14007060e-08 9.99999881e-01 2.10822328e-08]\n",
            " [1.29757645e-08 2.10822328e-08 1.00000024e+00]]\n"
          ]
        }
      ],
      "source": [
        "import jax.numpy as jnp\n",
        "\n",
        "# Input matrix with linearly independent columns\n",
        "V = jnp.array([[1., 1., 0.],\n",
        "               [1., 0., 1.],\n",
        "               [0., 1., 1.]])\n",
        "\n",
        "def gram_schmidt(V):\n",
        "    n = V.shape[1]\n",
        "    Q = jnp.zeros_like(V)\n",
        "    for k in range(n):\n",
        "        u = V[:, k]\n",
        "        for j in range(k):\n",
        "            u = u - jnp.dot(Q[:, j], V[:, k]) * Q[:, j]\n",
        "        Q = Q.at[:, k].set(u / jnp.linalg.norm(u))\n",
        "    return Q\n",
        "\n",
        "Q = gram_schmidt(V)\n",
        "print(\"Orthonormal matrix Q:\\n\", Q)\n",
        "print(\"Check orthogonality Q^T Q:\\n\", Q.T @ Q)\n"
      ]
    },
    {
      "cell_type": "markdown",
      "source": [
        "## 4) Plotting"
      ],
      "metadata": {
        "id": "2LoEV0bRLGBj"
      }
    },
    {
      "cell_type": "code",
      "source": [
        "import matplotlib.pyplot as plt\n",
        "\n",
        "# For visualization, use first 2 columns if in 3D\n",
        "vecs = Q[:, :2]\n",
        "origin = jnp.zeros(2)\n",
        "\n",
        "plt.figure(figsize=(6,6))\n",
        "plt.quiver(*origin, vecs[0,0], vecs[1,0], angles='xy', scale_units='xy', scale=1, color='r', label='q1')\n",
        "plt.quiver(*origin, vecs[0,1], vecs[1,1], angles='xy', scale_units='xy', scale=1, color='b', label='q2')\n",
        "plt.xlim(-1, 1.5)\n",
        "plt.ylim(-1, 1.5)\n",
        "plt.grid(True)\n",
        "plt.axhline(0, color='black', linewidth=0.5)\n",
        "plt.axvline(0, color='black', linewidth=0.5)\n",
        "plt.legend()\n",
        "plt.title(\"Orthonormal Vectors via Gram-Schmidt\")\n",
        "plt.show()\n"
      ],
      "metadata": {
        "colab": {
          "base_uri": "https://localhost:8080/",
          "height": 545
        },
        "id": "mHiPSbIjLIUM",
        "outputId": "44bfd8c1-31ad-4815-8ba6-b8a3cb741f5e"
      },
      "execution_count": null,
      "outputs": [
        {
          "output_type": "display_data",
          "data": {
            "text/plain": [
              "<Figure size 600x600 with 1 Axes>"
            ],
            "image/png": "[encoded data removed]"
          },
          "metadata": {}
        }
      ]
    },
    {
      "cell_type": "markdown",
      "source": [
        "## 5) Use Cases of Orthogonal Matrices and Gram-Schmidt\n",
        "\n",
        "1. **QR Decomposition:** Factorize a matrix $A = QR$, where $Q$ is orthogonal and $R$ is upper triangular.\n",
        "2. **Numerical Stability:** Orthogonal matrices preserve vector norms; used in stable algorithms.\n",
        "3. **Signal Processing:** Generate orthonormal bases for signals or features.\n",
        "4. **Machine Learning:** Principal Component Analysis (PCA) produces orthogonal eigenvectors.\n",
        "5. **Computer Graphics:** Construct coordinate frames or rotation matrices.\n"
      ],
      "metadata": {
        "id": "7zyl9Ob3LM6k"
      }
    }
  ]
}